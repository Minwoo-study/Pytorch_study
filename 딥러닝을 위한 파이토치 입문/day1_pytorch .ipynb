{
 "cells": [
  {
   "attachments": {},
   "cell_type": "markdown",
   "metadata": {},
   "source": [
    "# day 1. 파이토치 기본\n",
    "## 텐서"
   ]
  },
  {
   "cell_type": "code",
   "execution_count": 3,
   "metadata": {},
   "outputs": [],
   "source": [
    "import torch\n",
    "import numpy as np"
   ]
  },
  {
   "cell_type": "code",
   "execution_count": 4,
   "metadata": {},
   "outputs": [
    {
     "name": "stdout",
     "output_type": "stream",
     "text": [
      "tensor([[1.4013e-44, 1.5975e-43, 1.3873e-43, 1.4153e-43],\n",
      "        [4.4842e-44, 1.6255e-43, 1.4153e-43, 1.5274e-43],\n",
      "        [1.5695e-43, 1.5554e-43, 1.5975e-43, 1.3593e-43],\n",
      "        [1.5975e-43, 1.4714e-43, 1.5134e-43, 1.6956e-43],\n",
      "        [4.4842e-44, 1.6395e-43, 1.5414e-43, 1.3593e-43]])\n"
     ]
    }
   ],
   "source": [
    "# 5X4의 행렬 생성  => 아무값으로도 초기화되지 않은 기본 메모리 값이 들어감\n",
    "x = torch.empty(5,4)\n",
    "print(x)"
   ]
  },
  {
   "cell_type": "code",
   "execution_count": 5,
   "metadata": {},
   "outputs": [
    {
     "data": {
      "text/plain": [
       "tensor([[1., 1., 1.],\n",
       "        [1., 1., 1.],\n",
       "        [1., 1., 1.]])"
      ]
     },
     "execution_count": 5,
     "metadata": {},
     "output_type": "execute_result"
    }
   ],
   "source": [
    "# 모든 값이 1인 3X3의 행렬\n",
    "torch.ones(3,3)"
   ]
  },
  {
   "cell_type": "code",
   "execution_count": 6,
   "metadata": {},
   "outputs": [
    {
     "data": {
      "text/plain": [
       "tensor([0., 0.])"
      ]
     },
     "execution_count": 6,
     "metadata": {},
     "output_type": "execute_result"
    }
   ],
   "source": [
    "# 2X1의 값이 0인 행렬\n",
    "torch.zeros(2)"
   ]
  },
  {
   "cell_type": "code",
   "execution_count": 7,
   "metadata": {},
   "outputs": [
    {
     "data": {
      "text/plain": [
       "tensor([[0.2938, 0.0116, 0.1225, 0.0868, 0.2674, 0.3046],\n",
       "        [0.8160, 0.6303, 0.8291, 0.9164, 0.5334, 0.2892],\n",
       "        [0.4509, 0.2959, 0.1792, 0.6688, 0.0321, 0.7997],\n",
       "        [0.3928, 0.1880, 0.4013, 0.7582, 0.9268, 0.4204],\n",
       "        [0.4312, 0.0922, 0.4189, 0.3218, 0.7545, 0.4492]])"
      ]
     },
     "execution_count": 7,
     "metadata": {},
     "output_type": "execute_result"
    }
   ],
   "source": [
    "# 5행 6열의 랜덤 텐서\n",
    "torch.rand(5,6)"
   ]
  },
  {
   "cell_type": "code",
   "execution_count": 8,
   "metadata": {},
   "outputs": [],
   "source": [
    "#리스트\n",
    "l = [13,4]\n",
    "#넘파이 어레이\n",
    "r = np.array([4,56,7])"
   ]
  },
  {
   "cell_type": "code",
   "execution_count": 9,
   "metadata": {},
   "outputs": [
    {
     "data": {
      "text/plain": [
       "tensor([13,  4])"
      ]
     },
     "execution_count": 9,
     "metadata": {},
     "output_type": "execute_result"
    }
   ],
   "source": [
    "torch.tensor(l)"
   ]
  },
  {
   "cell_type": "code",
   "execution_count": 10,
   "metadata": {},
   "outputs": [
    {
     "data": {
      "text/plain": [
       "tensor([ 4, 56,  7])"
      ]
     },
     "execution_count": 10,
     "metadata": {},
     "output_type": "execute_result"
    }
   ],
   "source": [
    "torch.tensor(r)"
   ]
  },
  {
   "cell_type": "code",
   "execution_count": 12,
   "metadata": {},
   "outputs": [
    {
     "name": "stdout",
     "output_type": "stream",
     "text": [
      "tensor([[1.4013e-44, 1.5975e-43, 1.3873e-43, 1.4153e-43],\n",
      "        [4.4842e-44, 1.6255e-43, 1.4153e-43, 1.5274e-43],\n",
      "        [1.5695e-43, 1.5554e-43, 1.5975e-43, 1.3593e-43],\n",
      "        [1.5975e-43, 1.4714e-43, 1.5134e-43, 1.6956e-43],\n",
      "        [4.4842e-44, 1.6395e-43, 1.5414e-43, 1.3593e-43]])\n"
     ]
    },
    {
     "data": {
      "text/plain": [
       "torch.Size([5, 4])"
      ]
     },
     "execution_count": 12,
     "metadata": {},
     "output_type": "execute_result"
    }
   ],
   "source": [
    "print(x)\n",
    "x.size()"
   ]
  },
  {
   "cell_type": "code",
   "execution_count": 14,
   "metadata": {},
   "outputs": [
    {
     "data": {
      "text/plain": [
       "4"
      ]
     },
     "execution_count": 14,
     "metadata": {},
     "output_type": "execute_result"
    }
   ],
   "source": [
    "#사이즈 인덱싱 가능\n",
    "x.size()[1]"
   ]
  },
  {
   "cell_type": "code",
   "execution_count": null,
   "metadata": {},
   "outputs": [
    {
     "data": {
      "text/plain": [
       "4"
      ]
     },
     "metadata": {},
     "output_type": "display_data"
    }
   ],
   "source": [
    "x.size(1)"
   ]
  },
  {
   "cell_type": "code",
   "execution_count": 15,
   "metadata": {},
   "outputs": [
    {
     "data": {
      "text/plain": [
       "torch.Tensor"
      ]
     },
     "execution_count": 15,
     "metadata": {},
     "output_type": "execute_result"
    }
   ],
   "source": [
    "type(x)"
   ]
  },
  {
   "cell_type": "code",
   "execution_count": 23,
   "metadata": {},
   "outputs": [
    {
     "data": {
      "text/plain": [
       "tensor([[0.8598, 1.2577],\n",
       "        [0.6849, 1.5143]])"
      ]
     },
     "execution_count": 23,
     "metadata": {},
     "output_type": "execute_result"
    }
   ],
   "source": [
    "#같은 모양이면 텐서 더하기 가능\n",
    "x = torch.rand(2,2) # 2x2 랜덤 행렬\n",
    "y = torch.rand(2,2) # 2x2 랜덤 행렬\n",
    "x+y"
   ]
  },
  {
   "cell_type": "code",
   "execution_count": 24,
   "metadata": {},
   "outputs": [
    {
     "data": {
      "text/plain": [
       "tensor([[0.8598, 1.2577],\n",
       "        [0.6849, 1.5143]])"
      ]
     },
     "execution_count": 24,
     "metadata": {},
     "output_type": "execute_result"
    }
   ],
   "source": [
    "#.add 함수로도 가능\n",
    "torch.add(x,y)"
   ]
  },
  {
   "cell_type": "code",
   "execution_count": 25,
   "metadata": {},
   "outputs": [
    {
     "name": "stdout",
     "output_type": "stream",
     "text": [
      "tensor([[0.8598, 1.2577],\n",
      "        [0.6849, 1.5143]])\n",
      "tensor([[0.6242, 0.5630],\n",
      "        [0.2278, 0.6893]])\n"
     ]
    }
   ],
   "source": [
    "#텐서가 정해진 변수끼리 add로 더하기 가능\n",
    "#y에 x를 더한다\n",
    "print(y.add(x))\n",
    "print(y)"
   ]
  },
  {
   "cell_type": "code",
   "execution_count": 26,
   "metadata": {},
   "outputs": [
    {
     "data": {
      "text/plain": [
       "tensor([[0.8598, 1.2577],\n",
       "        [0.6849, 1.5143]])"
      ]
     },
     "execution_count": 26,
     "metadata": {},
     "output_type": "execute_result"
    }
   ],
   "source": [
    "# add_() => inplace 더한 값으로 y 대체\n",
    "y.add_(x)"
   ]
  },
  {
   "attachments": {},
   "cell_type": "markdown",
   "metadata": {},
   "source": [
    "### 텐서 크기 변환"
   ]
  },
  {
   "cell_type": "code",
   "execution_count": 30,
   "metadata": {},
   "outputs": [
    {
     "name": "stdout",
     "output_type": "stream",
     "text": [
      "torch.Size([8, 8])\n",
      "tensor([[0.3084, 0.0309, 0.1038, 0.2576, 0.3053, 0.3161, 0.4217, 0.4026],\n",
      "        [0.4166, 0.2132, 0.3144, 0.4019, 0.2279, 0.0575, 0.2057, 0.7623],\n",
      "        [0.8442, 0.9734, 0.7189, 0.7369, 0.4920, 0.9857, 0.5896, 0.4979],\n",
      "        [0.4420, 0.0351, 0.1228, 0.5866, 0.3216, 0.5647, 0.2690, 0.2272],\n",
      "        [0.2728, 0.4696, 0.9992, 0.2875, 0.4293, 0.3431, 0.7191, 0.4664],\n",
      "        [0.9916, 0.6862, 0.3798, 0.0112, 0.3462, 0.0606, 0.0684, 0.4286],\n",
      "        [0.5081, 0.9159, 0.3718, 0.6963, 0.5638, 0.0251, 0.0766, 0.1775],\n",
      "        [0.7521, 0.3088, 0.0569, 0.7469, 0.8699, 0.0278, 0.3952, 0.4326]])\n"
     ]
    }
   ],
   "source": [
    "# 8*8 행렬 생성\n",
    "x = torch.rand(8,8)\n",
    "print(x.size())\n",
    "print(x)"
   ]
  },
  {
   "cell_type": "code",
   "execution_count": 34,
   "metadata": {},
   "outputs": [
    {
     "ename": "RuntimeError",
     "evalue": "shape '[16, 3]' is invalid for input of size 64",
     "output_type": "error",
     "traceback": [
      "\u001b[0;31m---------------------------------------------------------------------------\u001b[0m",
      "\u001b[0;31mRuntimeError\u001b[0m                              Traceback (most recent call last)",
      "Cell \u001b[0;32mIn[34], line 2\u001b[0m\n\u001b[1;32m      1\u001b[0m \u001b[39m# view() => 크기를 변경 (모양 바꾸기 중요)\u001b[39;00m\n\u001b[0;32m----> 2\u001b[0m a \u001b[39m=\u001b[39m x\u001b[39m.\u001b[39;49mview(\u001b[39m16\u001b[39;49m,\u001b[39m3\u001b[39;49m)\n\u001b[1;32m      3\u001b[0m \u001b[39mprint\u001b[39m(a\u001b[39m.\u001b[39msize())\n\u001b[1;32m      4\u001b[0m \u001b[39mprint\u001b[39m(a)\n",
      "\u001b[0;31mRuntimeError\u001b[0m: shape '[16, 3]' is invalid for input of size 64"
     ]
    }
   ],
   "source": [
    "# view() => 크기를 변경 (모양 바꾸기 중요)\n",
    "a = x.view(16,4)\n",
    "print(a.size())\n",
    "print(a)"
   ]
  },
  {
   "cell_type": "code",
   "execution_count": 37,
   "metadata": {},
   "outputs": [
    {
     "name": "stdout",
     "output_type": "stream",
     "text": [
      "torch.Size([2, 8, 4])\n"
     ]
    }
   ],
   "source": [
    "# -1은 다른 값에 맞추어 변동 (-1 2개 안됨)\n",
    "b = x.view(-1,8,4)\n",
    "print(b.size())"
   ]
  },
  {
   "cell_type": "code",
   "execution_count": 38,
   "metadata": {},
   "outputs": [
    {
     "data": {
      "text/plain": [
       "numpy.ndarray"
      ]
     },
     "execution_count": 38,
     "metadata": {},
     "output_type": "execute_result"
    }
   ],
   "source": [
    "# 넘파이로 바꾸기\n",
    "y = x.numpy()\n",
    "type(y)"
   ]
  },
  {
   "cell_type": "code",
   "execution_count": 41,
   "metadata": {},
   "outputs": [
    {
     "name": "stdout",
     "output_type": "stream",
     "text": [
      "tensor([1.])\n",
      "<class 'float'>\n"
     ]
    }
   ],
   "source": [
    "# item => 숫자가 하나인 텐서를 숫자(float로 변경)\n",
    "x = torch.ones(1)\n",
    "print(x)\n",
    "print(type(x.item()))"
   ]
  },
  {
   "cell_type": "code",
   "execution_count": null,
   "metadata": {},
   "outputs": [],
   "source": []
  }
 ],
 "metadata": {
  "kernelspec": {
   "display_name": "Python 3",
   "language": "python",
   "name": "python3"
  },
  "language_info": {
   "codemirror_mode": {
    "name": "ipython",
    "version": 3
   },
   "file_extension": ".py",
   "mimetype": "text/x-python",
   "name": "python",
   "nbconvert_exporter": "python",
   "pygments_lexer": "ipython3",
   "version": "3.9.16"
  },
  "orig_nbformat": 4
 },
 "nbformat": 4,
 "nbformat_minor": 2
}
