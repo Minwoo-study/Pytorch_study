{
 "cells": [
  {
   "attachments": {},
   "cell_type": "markdown",
   "metadata": {},
   "source": [
    "# 클래스와 Underscore\n",
    "\n",
    "https://ebbnflow.tistory.com/255"
   ]
  },
  {
   "attachments": {},
   "cell_type": "markdown",
   "metadata": {},
   "source": [
    "### 생성자 __init__\n",
    "객체에 초기값을 설정해야 할 때 사용   \n",
    "초기값 설정할 때 필요한 메서드 "
   ]
  },
  {
   "cell_type": "code",
   "execution_count": 1,
   "metadata": {},
   "outputs": [
    {
     "name": "stdout",
     "output_type": "stream",
     "text": [
      "14000\n",
      "19000\n"
     ]
    }
   ],
   "source": [
    "class Order:\n",
    "    def setData(self, customer): #생성자를 이렇게 임의로 다른 걸로 만들면\n",
    "        self.customer = customer\n",
    "\n",
    "    def order(self, price):\n",
    "        self.customer += price\n",
    "        return self.customer\n",
    "\n",
    "customer1 = Order()\n",
    "\n",
    "customer1.setData(0) #생성자 함수를 구동한 다음에 작업해야함\n",
    "print(customer1.order(14000))\n",
    "print(customer1.order(5000))"
   ]
  },
  {
   "cell_type": "code",
   "execution_count": 2,
   "metadata": {},
   "outputs": [
    {
     "name": "stdout",
     "output_type": "stream",
     "text": [
      "14000\n",
      "19000\n"
     ]
    }
   ],
   "source": [
    "class Order:\n",
    "    def __init__(self): #__init__ 생성자를 사용하면 문제 없음. (self) 인 경우에는 따로 매개변수 값을 지정할 필요는 없지만\n",
    "        self.customer = 0\n",
    "\n",
    "    def order(self, price):\n",
    "        self.customer += price\n",
    "        return self.customer\n",
    "\n",
    "customer1 = Order() #따로 초기값 생성을 할 필요 없음\n",
    "\n",
    "print(customer1.order(14000))\n",
    "print(customer1.order(5000))"
   ]
  },
  {
   "cell_type": "code",
   "execution_count": null,
   "metadata": {},
   "outputs": [],
   "source": [
    "class Order:\n",
    "    def __init__(self, name): #이렇게 매개변수가 있는경우\n",
    "        self.customer = 0\n",
    "        self.name = name\n",
    "\n",
    "    def order(self, price):\n",
    "        self.customer += price\n",
    "        return self.customer\n",
    "\n",
    "customer1 = Order('길동이') #매개변수를 넣어주어야함\n",
    "\n",
    "print(customer1.order(14000))\n",
    "print(customer1.order(5000))"
   ]
  },
  {
   "attachments": {},
   "cell_type": "markdown",
   "metadata": {},
   "source": [
    "### __call__\n",
    "클래스의 객체를 호출할 수 있도록 만든 함수"
   ]
  },
  {
   "cell_type": "code",
   "execution_count": 3,
   "metadata": {},
   "outputs": [],
   "source": [
    "class Callmsg :\n",
    "    def __init__(self) :\n",
    "        self.msg=\"__call__ Test\"\n",
    "        \n",
    "    #아래 함수를 클래스의 추가\n",
    "    def __call__(self) :\n",
    "        return self.msg\n",
    "    \n",
    "    "
   ]
  },
  {
   "cell_type": "code",
   "execution_count": 4,
   "metadata": {},
   "outputs": [
    {
     "name": "stdout",
     "output_type": "stream",
     "text": [
      "__call__ Test\n"
     ]
    }
   ],
   "source": [
    "#일반적인 msg 출력 방법\n",
    "obj = Callmsg()\n",
    "print(obj.msg) #obj의 속성인 msg 호출"
   ]
  },
  {
   "cell_type": "code",
   "execution_count": 5,
   "metadata": {},
   "outputs": [
    {
     "name": "stdout",
     "output_type": "stream",
     "text": [
      "__call__ Test\n"
     ]
    }
   ],
   "source": [
    "# __call__ 함수가 있을 떄\n",
    "obj =Callmsg()\n",
    "print(obj())"
   ]
  },
  {
   "attachments": {},
   "cell_type": "markdown",
   "metadata": {},
   "source": [
    "클래스의 인스턴스를 함수로 취급한 다음 다른 함수의 파라미터로 사용하기 위해서 사용"
   ]
  },
  {
   "cell_type": "code",
   "execution_count": 19,
   "metadata": {},
   "outputs": [],
   "source": [
    "class Callmsg:\n",
    "    def __init__(self): # 초기 값\n",
    "        self.msg=\" It is test message for __call__ function : \"\n",
    "        \n",
    "    def printMsg(self, user_msg): #인스턴스가 실행할 수 있는 함수\n",
    "        um =self.msg + user_msg #user_msg를 입력하면 msg +user_msg를 return\n",
    "        return um\n",
    "    \n",
    "    def __call__(self, user_msg): # 호출할 떄 사용\n",
    "        return self.printMsg(user_msg)"
   ]
  },
  {
   "cell_type": "code",
   "execution_count": 21,
   "metadata": {},
   "outputs": [
    {
     "name": "stdout",
     "output_type": "stream",
     "text": [
      " It is test message for __call__ function : I do not get it\n",
      " It is test message for __call__ function : I do not get it\n"
     ]
    }
   ],
   "source": [
    "#class 인스턴스를 함수처럼 사용할 수 있음\n",
    "obj = Callmsg()\n",
    "print(obj('I do not get it')) # 아래 것 과 같은 의미 => but 인스턴스를 함수처럼 바로 사용\n",
    "print(obj.printMsg('I do not get it')) "
   ]
  },
  {
   "cell_type": "code",
   "execution_count": null,
   "metadata": {},
   "outputs": [],
   "source": []
  }
 ],
 "metadata": {
  "kernelspec": {
   "display_name": "torch_study",
   "language": "python",
   "name": "python3"
  },
  "language_info": {
   "codemirror_mode": {
    "name": "ipython",
    "version": 3
   },
   "file_extension": ".py",
   "mimetype": "text/x-python",
   "name": "python",
   "nbconvert_exporter": "python",
   "pygments_lexer": "ipython3",
   "version": "3.9.16"
  },
  "orig_nbformat": 4
 },
 "nbformat": 4,
 "nbformat_minor": 2
}
