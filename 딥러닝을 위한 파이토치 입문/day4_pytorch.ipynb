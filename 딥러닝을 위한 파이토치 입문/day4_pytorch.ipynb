{
 "cells": [
  {
   "attachments": {},
   "cell_type": "markdown",
   "metadata": {},
   "source": [
    "### 지금까지 모르는 내용 정리\n",
    "\n",
    "next(iter())  \n",
    "__call__  \n",
    "___get_items__  \n",
    "tr  \n",
    "dataloader   \n",
    "dataset"
   ]
  },
  {
   "attachments": {},
   "cell_type": "markdown",
   "metadata": {},
   "source": [
    "### next, iter\n",
    "iter는 반복가능한 객체에서 객체의 __iter__ 매서드 호출하여 iterator로 반환\n",
    "next는 이터레이터의 값을 하나씩 꺼냄. (1번에 하나씩) 객체의 __next__ 매서드 호출"
   ]
  },
  {
   "cell_type": "code",
   "execution_count": 7,
   "metadata": {},
   "outputs": [
    {
     "name": "stdout",
     "output_type": "stream",
     "text": [
      "<range_iterator object at 0x7fef48ebe270>\n",
      "0\n",
      "1\n",
      "2\n"
     ]
    }
   ],
   "source": [
    "it =iter(range(3))\n",
    "\n",
    "print(it) # it는 iter object\n",
    "print(next(it))\n",
    "print(next(it))\n",
    "print(next(it))\n",
    "\n",
    "#\n"
   ]
  },
  {
   "cell_type": "code",
   "execution_count": 8,
   "metadata": {},
   "outputs": [
    {
     "name": "stdout",
     "output_type": "stream",
     "text": [
      "4 5 1 5 1 5 0 5 4 "
     ]
    }
   ],
   "source": [
    "#iter는 반복을 끝낼 값을 지정하면 특정 값이 나올 때 반복을 끝낸다\n",
    "\n",
    "import random\n",
    "for i in iter(lambda : random.randint(0, 5), 2):\n",
    "    print(i, end=' ')"
   ]
  },
  {
   "cell_type": "code",
   "execution_count": 10,
   "metadata": {},
   "outputs": [
    {
     "name": "stdout",
     "output_type": "stream",
     "text": [
      "3\n"
     ]
    },
    {
     "ename": "StopIteration",
     "evalue": "",
     "output_type": "error",
     "traceback": [
      "\u001b[0;31m---------------------------------------------------------------------------\u001b[0m",
      "\u001b[0;31mStopIteration\u001b[0m                             Traceback (most recent call last)",
      "Cell \u001b[0;32mIn[10], line 3\u001b[0m\n\u001b[1;32m      1\u001b[0m it \u001b[39m=\u001b[39m \u001b[39miter\u001b[39m(\u001b[39mlambda\u001b[39;00m : random\u001b[39m.\u001b[39mrandint(\u001b[39m0\u001b[39m, \u001b[39m5\u001b[39m), \u001b[39m2\u001b[39m)\n\u001b[1;32m      2\u001b[0m \u001b[39mprint\u001b[39m(\u001b[39mnext\u001b[39m(it))\n\u001b[0;32m----> 3\u001b[0m \u001b[39mprint\u001b[39m(\u001b[39mnext\u001b[39;49m(it))\n\u001b[1;32m      4\u001b[0m \u001b[39mprint\u001b[39m(\u001b[39mnext\u001b[39m(it))\n",
      "\u001b[0;31mStopIteration\u001b[0m: "
     ]
    }
   ],
   "source": [
    "it = iter(lambda : random.randint(0, 5), 2) #0부터 5까지의 숫자로 iteration하는데 2가 나오면 멈추기\n",
    "print(next(it))\n",
    "print(next(it))\n",
    "print(next(it))"
   ]
  },
  {
   "cell_type": "code",
   "execution_count": 11,
   "metadata": {},
   "outputs": [],
   "source": [
    "#아래 코드와 같은 기능\n",
    "import random\n",
    " \n",
    "while True:\n",
    "    i = random.randint(0, 5)\n",
    "    if i == 2:\n",
    "        break\n",
    "    print(i, end=' ')"
   ]
  },
  {
   "cell_type": "code",
   "execution_count": 13,
   "metadata": {},
   "outputs": [
    {
     "name": "stdout",
     "output_type": "stream",
     "text": [
      "0\n",
      "1\n",
      "3\n",
      "10\n",
      "10\n"
     ]
    }
   ],
   "source": [
    "#next에 기본값을 설정하면 반복이 끝나더라도 Stopiteration 안 뜨고 기본값이 나오게 할 수 있음\n",
    "\n",
    "it = iter(lambda : random.randint(0, 5), 2)\n",
    "print(next(it, 10))\n",
    "print(next(it, 10))\n",
    "print(next(it, 10))\n",
    "print(next(it, 10)) #2가 나올 차례부터 10으로 대체\n",
    "print(next(it, 10))"
   ]
  },
  {
   "attachments": {},
   "cell_type": "markdown",
   "metadata": {},
   "source": [
    "### class 에서 __call__ , __의 기능\n",
    "특정한 개념이나 모양(기사, 궁수, 마법사 등)으로 존재하는 것을 객체(object)  \n",
    "이런 객체를 만들어 내는 것이 class\n",
    "체력, 마나, 물리공격력 등 객체가 지닐 데이터를 클래스의 속성이라고 부르고  \n",
    "베기, 찌르기 등의 기능을 method라고 부름  \n",
    "\n",
    "클래스 안에 속성과 메서드 둘다 존재\n",
    "\n",
    "복잡한 문제를 나누어 객체를 만들고 객체를 조합해서 문제를 해결하는 방법"
   ]
  },
  {
   "cell_type": "code",
   "execution_count": 23,
   "metadata": {},
   "outputs": [],
   "source": [
    "class Person : # 클래스\n",
    "    def greeting(self) : #메서드\n",
    "        print('hello') #메서드의 기능"
   ]
  },
  {
   "cell_type": "code",
   "execution_count": 24,
   "metadata": {},
   "outputs": [],
   "source": [
    "james = Person() #Person class로 만든 james는 Person의 instance\n",
    "#사용하려면 instance 생성 필수\n"
   ]
  },
  {
   "cell_type": "code",
   "execution_count": 25,
   "metadata": {},
   "outputs": [
    {
     "name": "stdout",
     "output_type": "stream",
     "text": [
      "hello\n"
     ]
    }
   ],
   "source": [
    "#메서드는 클래스가 아니라 인스턴스를 통해 호출\n",
    "james.greeting()"
   ]
  },
  {
   "cell_type": "code",
   "execution_count": 26,
   "metadata": {},
   "outputs": [
    {
     "data": {
      "text/plain": [
       "[0, 1, 2, 3, 4, 5, 6, 7, 8, 9, 20]"
      ]
     },
     "execution_count": 26,
     "metadata": {},
     "output_type": "execute_result"
    }
   ],
   "source": [
    "#int(), list(), dict() 등도 사실은 클래스 고 이 클래스를 통해 인스턴스를 만드는 작업    \n",
    "b = list(range(10)) #b = instance list 클래스로 range(10)을 리스트로 만들어 b라는 instance 생성\n",
    "b.append(20) # list class에 append method\n",
    "b"
   ]
  },
  {
   "attachments": {},
   "cell_type": "markdown",
   "metadata": {},
   "source": [
    "인스턴스와 객체의 차이\n",
    "\n",
    "보통 객체만 지칭할 때는 그냥 객체라고 부름\n",
    "\n",
    "클래스와 연관 지어 이야기할 때는 인스턴스라고 부름"
   ]
  }
 ],
 "metadata": {
  "kernelspec": {
   "display_name": "torch_study",
   "language": "python",
   "name": "python3"
  },
  "language_info": {
   "codemirror_mode": {
    "name": "ipython",
    "version": 3
   },
   "file_extension": ".py",
   "mimetype": "text/x-python",
   "name": "python",
   "nbconvert_exporter": "python",
   "pygments_lexer": "ipython3",
   "version": "3.9.16"
  },
  "orig_nbformat": 4
 },
 "nbformat": 4,
 "nbformat_minor": 2
}
